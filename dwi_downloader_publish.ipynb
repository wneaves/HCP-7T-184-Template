{
 "cells": [
  {
   "cell_type": "code",
   "execution_count": 17,
   "id": "8e45a262-8e25-4c34-9062-ba5da834d7f8",
   "metadata": {},
   "outputs": [
    {
     "name": "stdout",
     "output_type": "stream",
     "text": [
      "New folder made, downloading to /data/Will/test_subjects/114823\n"
     ]
    }
   ],
   "source": [
    "#This script can be used to quickly download relevant files from the HCP bucket for fiber tracking analyses\n",
    "#T1w, dwi, bval, bvec\n",
    "\n",
    "import boto3\n",
    "import os\n",
    "\n",
    "# Initialize the S3 client\n",
    "s3 = boto3.client(\n",
    "    's3',\n",
    "    aws_access_key_id=\n",
    "    aws_secret_access_key=\n",
    ")\n",
    "\n",
    "bucket_name = 'hcp-openaccess'\n",
    "download_dir = \n",
    "prefix = 'HCP_1200/'\n",
    "\n",
    "subID = \n",
    "\n",
    "folderCheck = os.path.join(download_dir, subID)\n",
    "\n",
    "folderExists = os.path.exists(folderCheck)\n",
    "\n",
    "if not folderExists:  # Check for folder, create one if needed\n",
    "    os.makedirs(folderCheck)\n",
    "    print(f\"New folder made, downloading to {folderCheck}\")\n",
    "else:\n",
    "    print(f\"Folder already exists: {folderCheck}\")\n"
   ]
  },
  {
   "cell_type": "code",
   "execution_count": 18,
   "id": "e7d86ba1-831c-4067-9776-45d12154828e",
   "metadata": {},
   "outputs": [],
   "source": [
    "T1s3 = f'HCP_1200/{subID}/T1w/T1w_acpc_dc.nii.gz'\n",
    "dwis3 = f'HCP_1200/{subID}/T1w/Diffusion_7T/data.nii.gz'\n",
    "bvalss3 = f'HCP_1200/{subID}/T1w/Diffusion_7T/bvals'\n",
    "bvecss3 = f'HCP_1200/{subID}/T1w/Diffusion_7T/bvecs'\n",
    "\n",
    "T1_download = download_dir+'/'+subID+'/'+subID+'_T1.nii.gz'\n",
    "dwi_7t_download = download_dir+'/'+subID+'/'+'data.nii.gz'\n",
    "bvals_download = download_dir+'/'+subID+'/'+'bvals'\n",
    "bvecs_download = download_dir+'/'+subID+'/'+'bvecs'\n",
    "\n",
    "s3.download_file(bucket_name, T1s3, T1_download)\n",
    "s3.download_file(bucket_name, dwis3, dwi_7t_download)\n",
    "s3.download_file(bucket_name, bvalss3, bvals_download)\n",
    "s3.download_file(bucket_name, bvecss3, bvecs_download)"
   ]
  },
  {
   "cell_type": "code",
   "execution_count": null,
   "id": "d55940da-bd67-4948-9c14-b4b0e69c120c",
   "metadata": {},
   "outputs": [],
   "source": []
  }
 ],
 "metadata": {
  "kernelspec": {
   "display_name": "Python 3 (ipykernel)",
   "language": "python",
   "name": "python3"
  },
  "language_info": {
   "codemirror_mode": {
    "name": "ipython",
    "version": 3
   },
   "file_extension": ".py",
   "mimetype": "text/x-python",
   "name": "python",
   "nbconvert_exporter": "python",
   "pygments_lexer": "ipython3",
   "version": "3.11.6"
  }
 },
 "nbformat": 4,
 "nbformat_minor": 5
}
